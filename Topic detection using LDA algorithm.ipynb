{
 "cells": [
  {
   "cell_type": "code",
   "execution_count": 1,
   "id": "5cbe5a8e",
   "metadata": {},
   "outputs": [],
   "source": [
    "import numpy as np\n",
    "import pandas as pd\n",
    "import matplotlib.pyplot as plt\n",
    "import nltk\n",
    "from nltk.corpus import stopwords\n",
    "from nltk.stem.wordnet import WordNetLemmatizer\n",
    "import string\n",
    "from sklearn.feature_extraction.text import TfidfVectorizer\n",
    "from sklearn.decomposition import LatentDirichletAllocation\n",
    "from nltk.corpus import stopwords"
   ]
  },
  {
   "cell_type": "code",
   "execution_count": 2,
   "id": "e5968d5a",
   "metadata": {},
   "outputs": [
    {
     "data": {
      "text/html": [
       "<div>\n",
       "<style scoped>\n",
       "    .dataframe tbody tr th:only-of-type {\n",
       "        vertical-align: middle;\n",
       "    }\n",
       "\n",
       "    .dataframe tbody tr th {\n",
       "        vertical-align: top;\n",
       "    }\n",
       "\n",
       "    .dataframe thead th {\n",
       "        text-align: right;\n",
       "    }\n",
       "</style>\n",
       "<table border=\"1\" class=\"dataframe\">\n",
       "  <thead>\n",
       "    <tr style=\"text-align: right;\">\n",
       "      <th></th>\n",
       "      <th>ID</th>\n",
       "      <th>TITLE</th>\n",
       "      <th>ABSTRACT</th>\n",
       "      <th>Computer Science</th>\n",
       "      <th>Physics</th>\n",
       "      <th>Mathematics</th>\n",
       "      <th>Statistics</th>\n",
       "      <th>Quantitative Biology</th>\n",
       "      <th>Quantitative Finance</th>\n",
       "    </tr>\n",
       "  </thead>\n",
       "  <tbody>\n",
       "    <tr>\n",
       "      <th>0</th>\n",
       "      <td>1</td>\n",
       "      <td>Reconstructing Subject-Specific Effect Maps</td>\n",
       "      <td>Predictive models allow subject-specific inf...</td>\n",
       "      <td>1</td>\n",
       "      <td>0</td>\n",
       "      <td>0</td>\n",
       "      <td>0</td>\n",
       "      <td>0</td>\n",
       "      <td>0</td>\n",
       "    </tr>\n",
       "    <tr>\n",
       "      <th>1</th>\n",
       "      <td>2</td>\n",
       "      <td>Rotation Invariance Neural Network</td>\n",
       "      <td>Rotation invariance and translation invarian...</td>\n",
       "      <td>1</td>\n",
       "      <td>0</td>\n",
       "      <td>0</td>\n",
       "      <td>0</td>\n",
       "      <td>0</td>\n",
       "      <td>0</td>\n",
       "    </tr>\n",
       "    <tr>\n",
       "      <th>2</th>\n",
       "      <td>3</td>\n",
       "      <td>Spherical polyharmonics and Poisson kernels fo...</td>\n",
       "      <td>We introduce and develop the notion of spher...</td>\n",
       "      <td>0</td>\n",
       "      <td>0</td>\n",
       "      <td>1</td>\n",
       "      <td>0</td>\n",
       "      <td>0</td>\n",
       "      <td>0</td>\n",
       "    </tr>\n",
       "    <tr>\n",
       "      <th>3</th>\n",
       "      <td>4</td>\n",
       "      <td>A finite element approximation for the stochas...</td>\n",
       "      <td>The stochastic Landau--Lifshitz--Gilbert (LL...</td>\n",
       "      <td>0</td>\n",
       "      <td>0</td>\n",
       "      <td>1</td>\n",
       "      <td>0</td>\n",
       "      <td>0</td>\n",
       "      <td>0</td>\n",
       "    </tr>\n",
       "    <tr>\n",
       "      <th>4</th>\n",
       "      <td>5</td>\n",
       "      <td>Comparative study of Discrete Wavelet Transfor...</td>\n",
       "      <td>Fourier-transform infra-red (FTIR) spectra o...</td>\n",
       "      <td>1</td>\n",
       "      <td>0</td>\n",
       "      <td>0</td>\n",
       "      <td>1</td>\n",
       "      <td>0</td>\n",
       "      <td>0</td>\n",
       "    </tr>\n",
       "  </tbody>\n",
       "</table>\n",
       "</div>"
      ],
      "text/plain": [
       "   ID                                              TITLE  \\\n",
       "0   1        Reconstructing Subject-Specific Effect Maps   \n",
       "1   2                 Rotation Invariance Neural Network   \n",
       "2   3  Spherical polyharmonics and Poisson kernels fo...   \n",
       "3   4  A finite element approximation for the stochas...   \n",
       "4   5  Comparative study of Discrete Wavelet Transfor...   \n",
       "\n",
       "                                            ABSTRACT  Computer Science  \\\n",
       "0    Predictive models allow subject-specific inf...                 1   \n",
       "1    Rotation invariance and translation invarian...                 1   \n",
       "2    We introduce and develop the notion of spher...                 0   \n",
       "3    The stochastic Landau--Lifshitz--Gilbert (LL...                 0   \n",
       "4    Fourier-transform infra-red (FTIR) spectra o...                 1   \n",
       "\n",
       "   Physics  Mathematics  Statistics  Quantitative Biology  \\\n",
       "0        0            0           0                     0   \n",
       "1        0            0           0                     0   \n",
       "2        0            1           0                     0   \n",
       "3        0            1           0                     0   \n",
       "4        0            0           1                     0   \n",
       "\n",
       "   Quantitative Finance  \n",
       "0                     0  \n",
       "1                     0  \n",
       "2                     0  \n",
       "3                     0  \n",
       "4                     0  "
      ]
     },
     "execution_count": 2,
     "metadata": {},
     "output_type": "execute_result"
    }
   ],
   "source": [
    "data = pd.read_csv(\"train.csv\")\n",
    "data.head()"
   ]
  },
  {
   "cell_type": "code",
   "execution_count": 3,
   "id": "a4e092f7",
   "metadata": {},
   "outputs": [
    {
     "data": {
      "text/plain": [
       "0          Predictive models allow subject-specific inf...\n",
       "1          Rotation invariance and translation invarian...\n",
       "2          We introduce and develop the notion of spher...\n",
       "3          The stochastic Landau--Lifshitz--Gilbert (LL...\n",
       "4          Fourier-transform infra-red (FTIR) spectra o...\n",
       "                               ...                        \n",
       "20967      Machine learning is finding increasingly bro...\n",
       "20968      Polycrystalline diamond coatings have been g...\n",
       "20969      We present a new approach for identifying si...\n",
       "20970      The sum of Log-normal variates is encountere...\n",
       "20971      Recently, optional stopping has been a subje...\n",
       "Name: ABSTRACT, Length: 20972, dtype: object"
      ]
     },
     "execution_count": 3,
     "metadata": {},
     "output_type": "execute_result"
    }
   ],
   "source": [
    "df = data[\"ABSTRACT\"]\n",
    "df"
   ]
  },
  {
   "cell_type": "code",
   "execution_count": 4,
   "id": "77c2558c",
   "metadata": {},
   "outputs": [],
   "source": [
    "#preprocessing data\n",
    "def preprocess(text):\n",
    "    token = [nltk.word_tokenize(word) for word in text]\n",
    "    stop = set(stopwords.words(\"english\"))\n",
    "    token_1 = []\n",
    "    for words in token:\n",
    "        l = []\n",
    "        for w in words:\n",
    "            if w not in stop:\n",
    "                l.append(w)\n",
    "        token_1.append(l)\n",
    "    punct = set(string.punctuation)\n",
    "    token_2 = []\n",
    "    for words in token_1:\n",
    "        l = []\n",
    "        for w in words:\n",
    "            if(w not in punct):\n",
    "                l.append(w)\n",
    "        token_2.append(l)\n",
    "    preprocess_ = []\n",
    "    for i in token_2:\n",
    "        preprocess_.append(\" \".join(i))\n",
    "    return preprocess_"
   ]
  },
  {
   "cell_type": "code",
   "execution_count": 5,
   "id": "4cd3ddc9",
   "metadata": {},
   "outputs": [
    {
     "data": {
      "text/plain": [
       "'Rotation invariance translation invariance great values image recognition tasks In paper bring new architecture convolutional neural network CNN named cyclic convolutional layer achieve rotation invariance 2-D symbol recognition We also get position orientation 2-D symbol network achieve detection purpose multiple non-overlap target Last least architecture achieve one-shot learning cases using invariance'"
      ]
     },
     "execution_count": 5,
     "metadata": {},
     "output_type": "execute_result"
    }
   ],
   "source": [
    "preprocess_data = preprocess(df)\n",
    "preprocess_data[1]"
   ]
  },
  {
   "cell_type": "code",
   "execution_count": 6,
   "id": "ce8b68f5",
   "metadata": {},
   "outputs": [],
   "source": [
    "#vectorization\n",
    "tfidf = TfidfVectorizer(stop_words = \"english\",max_df = .80,max_features=5000,use_idf = False,norm = None)\n",
    "tf_vectors = tfidf.fit_transform(preprocess_data)"
   ]
  },
  {
   "cell_type": "code",
   "execution_count": 7,
   "id": "26a5c3df",
   "metadata": {},
   "outputs": [],
   "source": [
    "#modal training\n",
    "lda_model = LatentDirichletAllocation(n_components=6, random_state=42)"
   ]
  },
  {
   "cell_type": "code",
   "execution_count": 8,
   "id": "4e64f1e7",
   "metadata": {},
   "outputs": [
    {
     "data": {
      "text/html": [
       "<style>#sk-container-id-1 {color: black;background-color: white;}#sk-container-id-1 pre{padding: 0;}#sk-container-id-1 div.sk-toggleable {background-color: white;}#sk-container-id-1 label.sk-toggleable__label {cursor: pointer;display: block;width: 100%;margin-bottom: 0;padding: 0.3em;box-sizing: border-box;text-align: center;}#sk-container-id-1 label.sk-toggleable__label-arrow:before {content: \"▸\";float: left;margin-right: 0.25em;color: #696969;}#sk-container-id-1 label.sk-toggleable__label-arrow:hover:before {color: black;}#sk-container-id-1 div.sk-estimator:hover label.sk-toggleable__label-arrow:before {color: black;}#sk-container-id-1 div.sk-toggleable__content {max-height: 0;max-width: 0;overflow: hidden;text-align: left;background-color: #f0f8ff;}#sk-container-id-1 div.sk-toggleable__content pre {margin: 0.2em;color: black;border-radius: 0.25em;background-color: #f0f8ff;}#sk-container-id-1 input.sk-toggleable__control:checked~div.sk-toggleable__content {max-height: 200px;max-width: 100%;overflow: auto;}#sk-container-id-1 input.sk-toggleable__control:checked~label.sk-toggleable__label-arrow:before {content: \"▾\";}#sk-container-id-1 div.sk-estimator input.sk-toggleable__control:checked~label.sk-toggleable__label {background-color: #d4ebff;}#sk-container-id-1 div.sk-label input.sk-toggleable__control:checked~label.sk-toggleable__label {background-color: #d4ebff;}#sk-container-id-1 input.sk-hidden--visually {border: 0;clip: rect(1px 1px 1px 1px);clip: rect(1px, 1px, 1px, 1px);height: 1px;margin: -1px;overflow: hidden;padding: 0;position: absolute;width: 1px;}#sk-container-id-1 div.sk-estimator {font-family: monospace;background-color: #f0f8ff;border: 1px dotted black;border-radius: 0.25em;box-sizing: border-box;margin-bottom: 0.5em;}#sk-container-id-1 div.sk-estimator:hover {background-color: #d4ebff;}#sk-container-id-1 div.sk-parallel-item::after {content: \"\";width: 100%;border-bottom: 1px solid gray;flex-grow: 1;}#sk-container-id-1 div.sk-label:hover label.sk-toggleable__label {background-color: #d4ebff;}#sk-container-id-1 div.sk-serial::before {content: \"\";position: absolute;border-left: 1px solid gray;box-sizing: border-box;top: 0;bottom: 0;left: 50%;z-index: 0;}#sk-container-id-1 div.sk-serial {display: flex;flex-direction: column;align-items: center;background-color: white;padding-right: 0.2em;padding-left: 0.2em;position: relative;}#sk-container-id-1 div.sk-item {position: relative;z-index: 1;}#sk-container-id-1 div.sk-parallel {display: flex;align-items: stretch;justify-content: center;background-color: white;position: relative;}#sk-container-id-1 div.sk-item::before, #sk-container-id-1 div.sk-parallel-item::before {content: \"\";position: absolute;border-left: 1px solid gray;box-sizing: border-box;top: 0;bottom: 0;left: 50%;z-index: -1;}#sk-container-id-1 div.sk-parallel-item {display: flex;flex-direction: column;z-index: 1;position: relative;background-color: white;}#sk-container-id-1 div.sk-parallel-item:first-child::after {align-self: flex-end;width: 50%;}#sk-container-id-1 div.sk-parallel-item:last-child::after {align-self: flex-start;width: 50%;}#sk-container-id-1 div.sk-parallel-item:only-child::after {width: 0;}#sk-container-id-1 div.sk-dashed-wrapped {border: 1px dashed gray;margin: 0 0.4em 0.5em 0.4em;box-sizing: border-box;padding-bottom: 0.4em;background-color: white;}#sk-container-id-1 div.sk-label label {font-family: monospace;font-weight: bold;display: inline-block;line-height: 1.2em;}#sk-container-id-1 div.sk-label-container {text-align: center;}#sk-container-id-1 div.sk-container {/* jupyter's `normalize.less` sets `[hidden] { display: none; }` but bootstrap.min.css set `[hidden] { display: none !important; }` so we also need the `!important` here to be able to override the default hidden behavior on the sphinx rendered scikit-learn.org. See: https://github.com/scikit-learn/scikit-learn/issues/21755 */display: inline-block !important;position: relative;}#sk-container-id-1 div.sk-text-repr-fallback {display: none;}</style><div id=\"sk-container-id-1\" class=\"sk-top-container\"><div class=\"sk-text-repr-fallback\"><pre>LatentDirichletAllocation(n_components=6, random_state=42)</pre><b>In a Jupyter environment, please rerun this cell to show the HTML representation or trust the notebook. <br />On GitHub, the HTML representation is unable to render, please try loading this page with nbviewer.org.</b></div><div class=\"sk-container\" hidden><div class=\"sk-item\"><div class=\"sk-estimator sk-toggleable\"><input class=\"sk-toggleable__control sk-hidden--visually\" id=\"sk-estimator-id-1\" type=\"checkbox\" checked><label for=\"sk-estimator-id-1\" class=\"sk-toggleable__label sk-toggleable__label-arrow\">LatentDirichletAllocation</label><div class=\"sk-toggleable__content\"><pre>LatentDirichletAllocation(n_components=6, random_state=42)</pre></div></div></div></div></div>"
      ],
      "text/plain": [
       "LatentDirichletAllocation(n_components=6, random_state=42)"
      ]
     },
     "execution_count": 8,
     "metadata": {},
     "output_type": "execute_result"
    }
   ],
   "source": [
    "lda_model.fit(tf_vectors)"
   ]
  },
  {
   "cell_type": "code",
   "execution_count": 9,
   "id": "fda17067",
   "metadata": {},
   "outputs": [
    {
     "data": {
      "text/plain": [
       "array([[  0.16721459,   0.16670807,   0.16753603, ..., 105.21298685,\n",
       "          0.16668272,   0.16703793],\n",
       "       [ 74.07006683,   0.16721701,   1.43885306, ...,   0.16673108,\n",
       "          0.16670005,   2.83625099],\n",
       "       [ 30.91039945,   0.16677516,   0.16850936, ...,   0.16676447,\n",
       "          0.16667221,   0.1670614 ],\n",
       "       [  0.16797616,   0.16692162,   0.16734054, ...,   0.16710724,\n",
       "          0.1668471 ,   5.30623839],\n",
       "       [ 15.87938477,  69.16529373,  27.02480069, ...,  25.11948403,\n",
       "         50.16613079, 104.42729261],\n",
       "       [ 73.80495821,   0.16708441,  34.03296032, ...,   0.16692633,\n",
       "          0.16696712,  46.09611868]])"
      ]
     },
     "execution_count": 9,
     "metadata": {},
     "output_type": "execute_result"
    }
   ],
   "source": [
    "lda_model.components_"
   ]
  },
  {
   "cell_type": "code",
   "execution_count": 10,
   "id": "a7f08cc8",
   "metadata": {},
   "outputs": [
    {
     "data": {
      "text/plain": [
       "(6, 5000)"
      ]
     },
     "execution_count": 10,
     "metadata": {},
     "output_type": "execute_result"
    }
   ],
   "source": [
    "lda_model.components_.shape"
   ]
  },
  {
   "cell_type": "code",
   "execution_count": 11,
   "id": "433ff1df",
   "metadata": {},
   "outputs": [
    {
     "data": {
      "text/plain": [
       "['involving unsupervised supervised settings.oatings g ... We present new approach identifying si ... The sum Log-normal variates encountere As result achieved state-of-the-art results three tasks Our code trained']"
      ]
     },
     "execution_count": 11,
     "metadata": {},
     "output_type": "execute_result"
    }
   ],
   "source": [
    "text = [\"involving both unsupervised and supervised\\nsettings.oatings have been g...We present a new approach for identifying si...The sum of Log-normal variates is encountere As a result, we achieved state-of-the-art results on all three of\\nthese tasks. Our code and trained\"]\n",
    "cleaned_data = preprocess(text)\n",
    "cleaned_data"
   ]
  },
  {
   "cell_type": "code",
   "execution_count": 12,
   "id": "6abfd281",
   "metadata": {},
   "outputs": [],
   "source": [
    "vector = tfidf.transform(cleaned_data)"
   ]
  },
  {
   "cell_type": "code",
   "execution_count": 18,
   "id": "ee202e51",
   "metadata": {},
   "outputs": [
    {
     "data": {
      "text/plain": [
       "2"
      ]
     },
     "execution_count": 18,
     "metadata": {},
     "output_type": "execute_result"
    }
   ],
   "source": [
    "topic_distribution = lda_model.transform(vector)\n",
    "predicted_topic = np.argmax(topic_distribution)\n",
    "predicted_topic\n",
    "        \n",
    "    "
   ]
  },
  {
   "cell_type": "code",
   "execution_count": 22,
   "id": "10162bcb",
   "metadata": {},
   "outputs": [
    {
     "data": {
      "text/plain": [
       "'The top words in the predicted topic are: learning, algorithm, method, network, based, data, problem, networks, neural, model'"
      ]
     },
     "execution_count": 22,
     "metadata": {},
     "output_type": "execute_result"
    }
   ],
   "source": [
    "top_topic_words = [tfidf.get_feature_names_out()[i] for i in lda_model.components_[predicted_topic].argsort()[-10:][::-1]]\n",
    "textual_info = \"The top words in the predicted topic are: \" + \", \".join(top_topic_words)\n",
    "textual_info"
   ]
  },
  {
   "cell_type": "code",
   "execution_count": 24,
   "id": "d08e74e1",
   "metadata": {},
   "outputs": [
    {
     "data": {
      "text/plain": [
       "['c relation Using superior measures i.e. lower measurement error existing measures reduces attenuation bias leads precise estimates parameters describing economic relationship Novel measures enable new analyses previously unmeasurable economic aspects In main analysis studies construct ML-based measures apply traditional econometric methods linear regression OLS.Table 2 presents selection studies use ML construct superior novel measures In following present three categories 1 measures sentiment 2 measures corporate executives ’ characteristics 3 measures firm characteristics']"
      ]
     },
     "execution_count": 24,
     "metadata": {},
     "output_type": "execute_result"
    }
   ],
   "source": [
    "text_1 = [\"c relation. Using superior measures (i.e., with lower measurement error than existing measures) reduces attenuation bias, which leads to more precise estimates of the parameters describing an economic relationship. Novel measures enable new analyses with previously unmeasurable economic aspects. In the main analysis, most studies that construct ML-based measures apply traditional econometric methods such as linear regression with OLS.Table 2 presents a selection of studies that use ML to construct superior or novel measures. In the following, we present them in three categories: (1) measures of sentiment, (2) measures of corporate executives’ characteristics, and (3) measures of firm characteristics\"]\n",
    "test_data = preprocess(text_1)\n",
    "test_data"
   ]
  },
  {
   "cell_type": "code",
   "execution_count": 25,
   "id": "d9bde732",
   "metadata": {},
   "outputs": [],
   "source": [
    "vector_test = tfidf.transform(test_data)"
   ]
  },
  {
   "cell_type": "code",
   "execution_count": 26,
   "id": "e2703ee9",
   "metadata": {},
   "outputs": [
    {
     "data": {
      "text/plain": [
       "1"
      ]
     },
     "execution_count": 26,
     "metadata": {},
     "output_type": "execute_result"
    }
   ],
   "source": [
    "topic_distribution_test = lda_model.transform(vector_test)\n",
    "predicted_topic_test = np.argmax(topic_distribution_test)\n",
    "predicted_topic_test\n",
    "        "
   ]
  },
  {
   "cell_type": "code",
   "execution_count": 28,
   "id": "88db704f",
   "metadata": {},
   "outputs": [
    {
     "data": {
      "text/plain": [
       "'The top words in the predicted topic are: data, model, based, paper, models, approach, using, information, analysis, used'"
      ]
     },
     "execution_count": 28,
     "metadata": {},
     "output_type": "execute_result"
    }
   ],
   "source": [
    "top_topic_words_test = [tfidf.get_feature_names_out()[i] for i in lda_model.components_[predicted_topic_test].argsort()[-10:][::-1]]\n",
    "textual_info_test = \"The top words in the predicted topic are: \" + \", \".join(top_topic_words_test)\n",
    "textual_info_test"
   ]
  },
  {
   "cell_type": "code",
   "execution_count": null,
   "id": "d424da2c",
   "metadata": {},
   "outputs": [],
   "source": []
  }
 ],
 "metadata": {
  "kernelspec": {
   "display_name": "Python 3",
   "language": "python",
   "name": "python3"
  },
  "language_info": {
   "codemirror_mode": {
    "name": "ipython",
    "version": 3
   },
   "file_extension": ".py",
   "mimetype": "text/x-python",
   "name": "python",
   "nbconvert_exporter": "python",
   "pygments_lexer": "ipython3",
   "version": "3.9.1"
  }
 },
 "nbformat": 4,
 "nbformat_minor": 5
}
